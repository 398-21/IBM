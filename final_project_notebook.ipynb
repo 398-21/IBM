{
 "cells": [
  {
   "cell_type": "markdown",
   "id": "75a8b17e",
   "metadata": {},
   "source": [
    "# Title of the Notebook"
   ]
  },
  {
   "cell_type": "markdown",
   "id": "ca1a6382",
   "metadata": {},
   "source": [
    "## Introduction"
   ]
  },
  {
   "cell_type": "markdown",
   "id": "0509ad16",
   "metadata": {},
   "source": [
    "### Data Science Languages:\n",
    "- Python\n",
    "- R\n",
    "- SQL\n",
    "- Java"
   ]
  },
  {
   "cell_type": "markdown",
   "id": "ef44ae44",
   "metadata": {},
   "source": [
    "### Data Science Libraries:\n",
    "- Pandas\n",
    "- NumPy\n",
    "- Scikit-learn\n",
    "- TensorFlow"
   ]
  },
  {
   "cell_type": "markdown",
   "id": "11cc11d2",
   "metadata": {},
   "source": [
    "### Data Science Tools:\n",
    "| Name | Type | Usage |\n",
    "|------|------|-------|\n",
    "| Jupyter | IDE | Data analysis |\n",
    "| Git | VCS | Version control |\n",
    "| Tableau | BI | Data visualization |\n"
   ]
  },
  {
   "cell_type": "markdown",
   "id": "2f5c34ce",
   "metadata": {},
   "source": [
    "### Arithmetic Expressions Examples:\n",
    "- `5 * 4` for multiplication\n",
    "- `6 + 3` for addition"
   ]
  },
  {
   "cell_type": "code",
   "execution_count": 3,
   "id": "bb5abbf5",
   "metadata": {},
   "outputs": [
    {
     "data": {
      "text/plain": [
       "29"
      ]
     },
     "execution_count": 3,
     "metadata": {},
     "output_type": "execute_result"
    }
   ],
   "source": [
    "# Multiply and add numbers\n",
    "result = (5 * 4) + (6 + 3)\n",
    "result"
   ]
  },
  {
   "cell_type": "code",
   "execution_count": 4,
   "id": "baec98fe",
   "metadata": {},
   "outputs": [
    {
     "data": {
      "text/plain": [
       "2.0"
      ]
     },
     "execution_count": 4,
     "metadata": {},
     "output_type": "execute_result"
    }
   ],
   "source": [
    "# Convert minutes to hours\n",
    "minutes = 120\n",
    "hours = minutes / 60\n",
    "hours"
   ]
  },
  {
   "cell_type": "markdown",
   "id": "c0b70666",
   "metadata": {},
   "source": [
    "### Objectives\n",
    "- Learn data science concepts\n",
    "- Implement algorithms"
   ]
  },
  {
   "cell_type": "markdown",
   "id": "6c0cff0c",
   "metadata": {},
   "source": [
    "### Author's Name:\n",
    "NA"
   ]
  }
 ],
 "metadata": {
  "kernelspec": {
   "display_name": "Python 3",
   "language": "python",
   "name": "python3"
  },
  "language_info": {
   "codemirror_mode": {
    "name": "ipython",
    "version": 3
   },
   "file_extension": ".py",
   "mimetype": "text/x-python",
   "name": "python",
   "nbconvert_exporter": "python",
   "pygments_lexer": "ipython3",
   "version": "3.11.3"
  }
 },
 "nbformat": 4,
 "nbformat_minor": 5
}
